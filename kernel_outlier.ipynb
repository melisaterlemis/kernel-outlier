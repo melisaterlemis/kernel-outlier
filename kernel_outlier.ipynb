{
  "nbformat": 4,
  "nbformat_minor": 0,
  "metadata": {
    "colab": {
      "provenance": []
    },
    "kernelspec": {
      "name": "python3",
      "display_name": "Python 3"
    },
    "language_info": {
      "name": "python"
    }
  },
  "cells": [
    {
      "cell_type": "code",
      "source": [
        "import numpy as np\n",
        "import matplotlib.pyplot as plt\n",
        "from scipy.stats import gaussian_kde"
      ],
      "metadata": {
        "id": "XxhD3NE0g7Wp"
      },
      "execution_count": 1,
      "outputs": []
    },
    {
      "cell_type": "code",
      "source": [
        "def detect_outliers(data, threshold=0.05):\n",
        "\n",
        "    # Veri dizisi için Gaussian Kernel Yoğunluk Tahmini oluşturma\n",
        "    kde = gaussian_kde(data)\n",
        "\n",
        "    # Veri noktalarının yoğunluk tahmini değerleri\n",
        "    densities = kde.evaluate(data)\n",
        "\n",
        "    # Yoğunluk tahminlerinin tersine çevrilmesi (düşük yoğunluk = yüksek aykırılık olasılığı)\n",
        "    density_threshold = np.percentile(densities, threshold * 100)\n",
        "\n",
        "    # Aykırı değerlerin indekslerini bulma\n",
        "    outliers_indices = np.where(densities < density_threshold)[0]\n",
        "\n",
        "    return outliers_indices\n"
      ],
      "metadata": {
        "id": "Qun5l2uCg-Bc"
      },
      "execution_count": 2,
      "outputs": []
    },
    {
      "cell_type": "code",
      "source": [
        "def replace_outliers_with_mean(data, outliers_indices):\n",
        "\n",
        "    mean_value = np.mean(data)\n",
        "    data_copy = data.copy()\n",
        "    data_copy[outliers_indices] = mean_value\n",
        "    return data_copy"
      ],
      "metadata": {
        "id": "pN8sOJmJlnrh"
      },
      "execution_count": 3,
      "outputs": []
    },
    {
      "cell_type": "code",
      "source": [
        "# Veri oluşturma\n",
        "normal_data = np.random.normal(loc=0, scale=1, size=180)\n",
        "normal_data"
      ],
      "metadata": {
        "colab": {
          "base_uri": "https://localhost:8080/"
        },
        "id": "bDrL8X__htSn",
        "outputId": "a0c13694-0863-440e-e30b-6b0ec20e8e15"
      },
      "execution_count": 4,
      "outputs": [
        {
          "output_type": "execute_result",
          "data": {
            "text/plain": [
              "array([ 1.51111547,  1.59255468, -0.47158001, -0.64367422,  0.25160538,\n",
              "        0.46500859,  0.53906993,  0.10423067, -1.25579847, -0.36757273,\n",
              "        1.94112982, -0.71579722, -0.05806349,  2.12328156, -0.39112298,\n",
              "        2.21147679, -0.87573936,  1.09731042, -1.27080276,  1.05761568,\n",
              "        0.35559333,  0.58895659, -0.9061339 , -0.68911795, -0.16226447,\n",
              "       -0.3769696 , -1.10574236, -0.63438809, -0.23292684,  0.17472542,\n",
              "       -0.50859089, -0.201739  , -0.09328192, -2.05207066, -1.7425763 ,\n",
              "        0.08463613,  0.89331106,  0.0201406 , -1.23844251,  0.63905833,\n",
              "        1.06343184, -0.27714269,  0.90520416,  1.71726106, -0.2275403 ,\n",
              "       -0.2237634 , -0.51822266, -0.41374645, -0.74850262, -0.27382728,\n",
              "        0.60712878,  0.33181797,  1.28937994,  0.73957954,  0.26560555,\n",
              "       -0.39571591, -0.08747842, -1.4934492 ,  0.8868107 ,  0.38416711,\n",
              "        0.16007746, -0.24406115, -0.94524419,  1.58448016, -2.13598869,\n",
              "        0.41578713,  1.03114896,  0.03630026, -0.77036222,  2.88278013,\n",
              "        0.34918554,  0.81664994,  0.67155014,  1.91056952,  0.72812016,\n",
              "        0.60916518,  0.24956498,  0.49306833, -0.13134207, -0.48596605,\n",
              "        1.63608918,  0.65621353,  1.16920015,  0.45536821, -0.72868195,\n",
              "       -0.98228573, -0.50965455, -0.38516706,  1.37365725, -0.59343895,\n",
              "       -0.09070843,  0.98577818,  0.38673954,  0.11097558,  0.39741327,\n",
              "       -0.89907369, -0.10588623, -0.99150265,  0.47572175, -1.04059379,\n",
              "        2.04139018, -0.75682284,  1.76674033, -0.7775202 ,  0.74024652,\n",
              "        0.52406121,  0.58000018, -0.42701177,  0.46000989,  0.67791636,\n",
              "        0.33784119, -0.73438322,  1.22536614, -0.33892167,  0.23186144,\n",
              "        0.69532406,  0.59855144, -0.28877293, -0.42869201, -1.50408469,\n",
              "        1.07032457,  0.72650426, -0.38213758, -0.39024033, -0.97356432,\n",
              "       -0.10104128, -0.50803516,  1.67616047,  0.32861681,  0.56070473,\n",
              "       -1.28252376, -1.08668575,  0.12005693, -0.26923184,  0.25003863,\n",
              "       -1.6687588 , -0.55478997,  0.07643667,  0.09568985, -0.32147096,\n",
              "       -0.46743086, -1.14372556,  0.91733111, -0.53196529, -1.86937801,\n",
              "       -0.36966344,  0.84552029, -1.44091322, -0.25313694,  1.78742907,\n",
              "        0.8901238 ,  0.74037312, -0.32801079, -1.42473858,  0.50063081,\n",
              "       -0.19504267, -1.61826287,  0.98397742,  0.72319069, -0.67846069,\n",
              "        0.3637008 ,  1.47713664, -0.88488647,  0.79609686, -0.9423724 ,\n",
              "       -0.15274539, -0.62490388, -1.40686624, -0.50967604,  0.11781504,\n",
              "       -0.14416928, -0.56103766,  0.27008708, -0.11219718,  1.67481756,\n",
              "        0.16963017,  2.05491971,  1.091776  , -0.6673075 ,  1.0817132 ])"
            ]
          },
          "metadata": {},
          "execution_count": 4
        }
      ]
    },
    {
      "cell_type": "code",
      "source": [
        "outliers = np.random.normal(loc=10, scale=5, size=20)\n",
        "outliers"
      ],
      "metadata": {
        "colab": {
          "base_uri": "https://localhost:8080/"
        },
        "id": "S7P19S0Lh62t",
        "outputId": "a51dc30c-a08f-47c5-9859-7ff0b17eee31"
      },
      "execution_count": 5,
      "outputs": [
        {
          "output_type": "execute_result",
          "data": {
            "text/plain": [
              "array([13.31094251,  6.15279297, 15.38859399, 13.67871574,  7.32594801,\n",
              "       10.75971631,  7.82838734, 15.20759644,  4.42438923,  9.53986887,\n",
              "        5.14590483, 10.85484077, 14.50199948, 11.498834  ,  9.54406027,\n",
              "        7.72064862, 19.8538905 ,  8.50554191,  9.87356289,  7.86516369])"
            ]
          },
          "metadata": {},
          "execution_count": 5
        }
      ]
    },
    {
      "cell_type": "code",
      "source": [
        "data = np.concatenate([normal_data, outliers])\n",
        "data"
      ],
      "metadata": {
        "colab": {
          "base_uri": "https://localhost:8080/"
        },
        "id": "CQGNj_9Nhzuz",
        "outputId": "b0295309-7b0a-4508-f24f-f9c6bde5521d"
      },
      "execution_count": 6,
      "outputs": [
        {
          "output_type": "execute_result",
          "data": {
            "text/plain": [
              "array([ 1.51111547,  1.59255468, -0.47158001, -0.64367422,  0.25160538,\n",
              "        0.46500859,  0.53906993,  0.10423067, -1.25579847, -0.36757273,\n",
              "        1.94112982, -0.71579722, -0.05806349,  2.12328156, -0.39112298,\n",
              "        2.21147679, -0.87573936,  1.09731042, -1.27080276,  1.05761568,\n",
              "        0.35559333,  0.58895659, -0.9061339 , -0.68911795, -0.16226447,\n",
              "       -0.3769696 , -1.10574236, -0.63438809, -0.23292684,  0.17472542,\n",
              "       -0.50859089, -0.201739  , -0.09328192, -2.05207066, -1.7425763 ,\n",
              "        0.08463613,  0.89331106,  0.0201406 , -1.23844251,  0.63905833,\n",
              "        1.06343184, -0.27714269,  0.90520416,  1.71726106, -0.2275403 ,\n",
              "       -0.2237634 , -0.51822266, -0.41374645, -0.74850262, -0.27382728,\n",
              "        0.60712878,  0.33181797,  1.28937994,  0.73957954,  0.26560555,\n",
              "       -0.39571591, -0.08747842, -1.4934492 ,  0.8868107 ,  0.38416711,\n",
              "        0.16007746, -0.24406115, -0.94524419,  1.58448016, -2.13598869,\n",
              "        0.41578713,  1.03114896,  0.03630026, -0.77036222,  2.88278013,\n",
              "        0.34918554,  0.81664994,  0.67155014,  1.91056952,  0.72812016,\n",
              "        0.60916518,  0.24956498,  0.49306833, -0.13134207, -0.48596605,\n",
              "        1.63608918,  0.65621353,  1.16920015,  0.45536821, -0.72868195,\n",
              "       -0.98228573, -0.50965455, -0.38516706,  1.37365725, -0.59343895,\n",
              "       -0.09070843,  0.98577818,  0.38673954,  0.11097558,  0.39741327,\n",
              "       -0.89907369, -0.10588623, -0.99150265,  0.47572175, -1.04059379,\n",
              "        2.04139018, -0.75682284,  1.76674033, -0.7775202 ,  0.74024652,\n",
              "        0.52406121,  0.58000018, -0.42701177,  0.46000989,  0.67791636,\n",
              "        0.33784119, -0.73438322,  1.22536614, -0.33892167,  0.23186144,\n",
              "        0.69532406,  0.59855144, -0.28877293, -0.42869201, -1.50408469,\n",
              "        1.07032457,  0.72650426, -0.38213758, -0.39024033, -0.97356432,\n",
              "       -0.10104128, -0.50803516,  1.67616047,  0.32861681,  0.56070473,\n",
              "       -1.28252376, -1.08668575,  0.12005693, -0.26923184,  0.25003863,\n",
              "       -1.6687588 , -0.55478997,  0.07643667,  0.09568985, -0.32147096,\n",
              "       -0.46743086, -1.14372556,  0.91733111, -0.53196529, -1.86937801,\n",
              "       -0.36966344,  0.84552029, -1.44091322, -0.25313694,  1.78742907,\n",
              "        0.8901238 ,  0.74037312, -0.32801079, -1.42473858,  0.50063081,\n",
              "       -0.19504267, -1.61826287,  0.98397742,  0.72319069, -0.67846069,\n",
              "        0.3637008 ,  1.47713664, -0.88488647,  0.79609686, -0.9423724 ,\n",
              "       -0.15274539, -0.62490388, -1.40686624, -0.50967604,  0.11781504,\n",
              "       -0.14416928, -0.56103766,  0.27008708, -0.11219718,  1.67481756,\n",
              "        0.16963017,  2.05491971,  1.091776  , -0.6673075 ,  1.0817132 ,\n",
              "       13.31094251,  6.15279297, 15.38859399, 13.67871574,  7.32594801,\n",
              "       10.75971631,  7.82838734, 15.20759644,  4.42438923,  9.53986887,\n",
              "        5.14590483, 10.85484077, 14.50199948, 11.498834  ,  9.54406027,\n",
              "        7.72064862, 19.8538905 ,  8.50554191,  9.87356289,  7.86516369])"
            ]
          },
          "metadata": {},
          "execution_count": 6
        }
      ]
    },
    {
      "cell_type": "code",
      "source": [
        "# Veri işlem öncesi istatistikleri\n",
        "mean_before = np.mean(data)\n",
        "std_dev_before = np.std(data)\n",
        "median_before = np.median(data)\n",
        "variance_before = np.var(data)\n",
        "\n",
        "\n",
        "# Sonuçları yazdırma\n",
        "print(\"Veri İşlem Öncesi İstatistikler:\")\n",
        "print(\"Ortalama (Before):\", mean_before)\n",
        "print(\"Standart Sapma (Before):\", std_dev_before)\n",
        "print(\"Median (Before):\", median_before)\n",
        "print(\"Varyans (Before):\", variance_before)"
      ],
      "metadata": {
        "colab": {
          "base_uri": "https://localhost:8080/"
        },
        "id": "UsQasb-RiFHT",
        "outputId": "5652c6e6-60cd-42fd-addf-77632aeb696f"
      },
      "execution_count": 7,
      "outputs": [
        {
          "output_type": "stream",
          "name": "stdout",
          "text": [
            "Veri İşlem Öncesi İstatistikler:\n",
            "Ortalama (Before): 1.1143149955900338\n",
            "Standart Sapma (Before): 3.45244849926193\n",
            "Median (Before): 0.17217779516122705\n",
            "Varyans (Before): 11.919400640055953\n"
          ]
        }
      ]
    },
    {
      "cell_type": "code",
      "source": [
        "# Aykırı değerleri bulma\n",
        "outliers_indices = detect_outliers(data)\n",
        "print(outliers_indices)\n",
        "\n",
        "print(\"Gaussian KDE ile Tespit Edilen Aykırı Değer Sayısı (Before):\", len(outliers_indices))\n"
      ],
      "metadata": {
        "colab": {
          "base_uri": "https://localhost:8080/"
        },
        "id": "ZcYrIQGoizUj",
        "outputId": "242712cf-74fb-4bc8-ab0d-198c0298051c"
      },
      "execution_count": 8,
      "outputs": [
        {
          "output_type": "stream",
          "name": "stdout",
          "text": [
            "[180 181 182 183 187 188 190 192 193 196]\n",
            "Gaussian KDE ile Tespit Edilen Aykırı Değer Sayısı (Before): 10\n"
          ]
        }
      ]
    },
    {
      "cell_type": "code",
      "source": [
        "# Boxplot ile aykırı değer sayısını hesaplama\n",
        "q1 = np.percentile(data, 25)\n",
        "q3 = np.percentile(data, 75)\n",
        "iqr = q3 - q1\n",
        "lower_bound = q1 - 1.5 * iqr\n",
        "upper_bound = q3 + 1.5 * iqr\n",
        "outliers_boxplot = np.where((data < lower_bound) | (data > upper_bound))[0]\n",
        "print(outliers_boxplot)\n",
        "\n",
        "print(\"Boxplot ile Tespit Edilen Aykırı Değer Sayısı (Before):\", len(outliers_boxplot))"
      ],
      "metadata": {
        "colab": {
          "base_uri": "https://localhost:8080/"
        },
        "id": "pVPh0C4-jfWT",
        "outputId": "8837104a-f74c-484f-ad53-c13cdfdf79a6"
      },
      "execution_count": 9,
      "outputs": [
        {
          "output_type": "stream",
          "name": "stdout",
          "text": [
            "[180 181 182 183 184 185 186 187 188 189 190 191 192 193 194 195 196 197\n",
            " 198 199]\n",
            "Boxplot ile Tespit Edilen Aykırı Değer Sayısı (Before): 20\n"
          ]
        }
      ]
    },
    {
      "cell_type": "code",
      "source": [
        "# Boxplot ile aykırı değerleri görselleştirme\n",
        "plt.figure(figsize=(8, 6))\n",
        "plt.boxplot(data)\n",
        "plt.title(\"Boxplot ile Aykırı Değerlerin Görselleştirilmesi\")\n",
        "plt.show()"
      ],
      "metadata": {
        "colab": {
          "base_uri": "https://localhost:8080/",
          "height": 545
        },
        "id": "gpuNCVqNjpEE",
        "outputId": "705b10f4-f4ff-4d91-8ed6-27d7671a3bce"
      },
      "execution_count": 10,
      "outputs": [
        {
          "output_type": "display_data",
          "data": {
            "text/plain": [
              "<Figure size 800x600 with 1 Axes>"
            ],
            "image/png": "[encoded data removed]"
          },
          "metadata": {}
        }
      ]
    },
    {
      "cell_type": "code",
      "source": [
        "# Aykırı değerleri ortalama ile değiştirme\n",
        "data_with_mean_replacement = replace_outliers_with_mean(data, outliers_indices)\n",
        "\n",
        "print(\"Aykırı Değerlerin İndeksleri ve Değerleri (Önce):\")\n",
        "for index in outliers_indices:\n",
        "    print(f\"İndeks: {index}, Değer: {data[index]}\")\n",
        "\n",
        "print(\"\\nAykırı Değerlerin İndeksleri ve Değerleri (Sonra - Ortalama İle Değiştirildi):\")\n",
        "for index in outliers_indices:\n",
        "    print(f\"İndeks: {index}, Değer: {data_with_mean_replacement[index]}\")"
      ],
      "metadata": {
        "colab": {
          "base_uri": "https://localhost:8080/"
        },
        "id": "bHXfrv4CjRa_",
        "outputId": "a5f830cf-a03c-4546-f892-d6370a2ef14d"
      },
      "execution_count": 13,
      "outputs": [
        {
          "output_type": "stream",
          "name": "stdout",
          "text": [
            "Aykırı Değerlerin İndeksleri ve Değerleri (Önce):\n",
            "İndeks: 180, Değer: 13.310942512526374\n",
            "İndeks: 181, Değer: 6.1527929721378545\n",
            "İndeks: 182, Değer: 15.388593985175557\n",
            "İndeks: 183, Değer: 13.678715742774987\n",
            "İndeks: 187, Değer: 15.20759643616628\n",
            "İndeks: 188, Değer: 4.424389233315472\n",
            "İndeks: 190, Değer: 5.145904826279111\n",
            "İndeks: 192, Değer: 14.501999480982544\n",
            "İndeks: 193, Değer: 11.498833999198975\n",
            "İndeks: 196, Değer: 19.853890497041956\n",
            "\n",
            "Aykırı Değerlerin İndeksleri ve Değerleri (Sonra - Ortalama İle Değiştirildi):\n",
            "İndeks: 180, Değer: 1.1143149955900338\n",
            "İndeks: 181, Değer: 1.1143149955900338\n",
            "İndeks: 182, Değer: 1.1143149955900338\n",
            "İndeks: 183, Değer: 1.1143149955900338\n",
            "İndeks: 187, Değer: 1.1143149955900338\n",
            "İndeks: 188, Değer: 1.1143149955900338\n",
            "İndeks: 190, Değer: 1.1143149955900338\n",
            "İndeks: 192, Değer: 1.1143149955900338\n",
            "İndeks: 193, Değer: 1.1143149955900338\n",
            "İndeks: 196, Değer: 1.1143149955900338\n"
          ]
        }
      ]
    },
    {
      "cell_type": "code",
      "source": [
        "# Veri işlem sonrası istatistikleri\n",
        "mean_after = np.mean(data_with_mean_replacement)\n",
        "std_dev_after = np.std(data_with_mean_replacement)\n",
        "median_after = np.median(data_with_mean_replacement)\n",
        "variance_after = np.var(data_with_mean_replacement)\n",
        "\n",
        "\n",
        "print(\"Veri İşlem Sonrası İstatistikler:\")\n",
        "print(\"Ortalama (After):\", mean_after)\n",
        "print(\"Standart Sapma (After):\", std_dev_after)\n",
        "print(\"Median (After):\", median_after)\n",
        "print(\"Varyans (After):\", variance_after)"
      ],
      "metadata": {
        "colab": {
          "base_uri": "https://localhost:8080/"
        },
        "id": "XR5avzx9j-Gb",
        "outputId": "f8ff05dd-4ce9-4651-b601-54f069b2e910"
      },
      "execution_count": 12,
      "outputs": [
        {
          "output_type": "stream",
          "name": "stdout",
          "text": [
            "Veri İşlem Sonrası İstatistikler:\n",
            "Ortalama (After): 0.5742124469415398\n",
            "Standart Sapma (After): 2.1513993991209865\n",
            "Median (After): 0.17217779516122705\n",
            "Varyans (After): 4.6285193745381426\n"
          ]
        }
      ]
    }
  ]
}